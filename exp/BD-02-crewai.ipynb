{
 "cells": [
  {
   "cell_type": "code",
   "execution_count": 2,
   "metadata": {},
   "outputs": [
    {
     "name": "stdout",
     "output_type": "stream",
     "text": [
      "Note: you may need to restart the kernel to use updated packages.\n"
     ]
    }
   ],
   "source": [
    "# Install crewai\n",
    "%pip install crewai==0.105.0 -q"
   ]
  },
  {
   "cell_type": "code",
   "execution_count": 1,
   "metadata": {},
   "outputs": [
    {
     "ename": "ModuleNotFoundError",
     "evalue": "No module named 'crewai_tools'",
     "output_type": "error",
     "traceback": [
      "\u001b[1;31m---------------------------------------------------------------------------\u001b[0m",
      "\u001b[1;31mModuleNotFoundError\u001b[0m                       Traceback (most recent call last)",
      "Cell \u001b[1;32mIn[1], line 6\u001b[0m\n\u001b[0;32m      3\u001b[0m \u001b[38;5;28;01mfrom\u001b[39;00m\u001b[38;5;250m \u001b[39m\u001b[38;5;21;01mcrewai\u001b[39;00m\u001b[38;5;21;01m.\u001b[39;00m\u001b[38;5;21;01mproject\u001b[39;00m\u001b[38;5;250m \u001b[39m\u001b[38;5;28;01mimport\u001b[39;00m CrewBase, agent, crew, task\n\u001b[0;32m      5\u001b[0m \u001b[38;5;66;03m# Check our tools documentations for more information on how to use them\u001b[39;00m\n\u001b[1;32m----> 6\u001b[0m \u001b[38;5;28;01mfrom\u001b[39;00m\u001b[38;5;250m \u001b[39m\u001b[38;5;21;01mcrewai_tools\u001b[39;00m\u001b[38;5;250m \u001b[39m\u001b[38;5;28;01mimport\u001b[39;00m SerperDevTool, ScrapeWebsiteTool, WebsiteSearchTool, FileReadTool\n\u001b[0;32m      7\u001b[0m \u001b[38;5;28;01mfrom\u001b[39;00m\u001b[38;5;250m \u001b[39m\u001b[38;5;21;01mpydantic\u001b[39;00m\u001b[38;5;250m \u001b[39m\u001b[38;5;28;01mimport\u001b[39;00m BaseModel, Field\n\u001b[0;32m      9\u001b[0m web_search_tool \u001b[38;5;241m=\u001b[39m WebsiteSearchTool()\n",
      "\u001b[1;31mModuleNotFoundError\u001b[0m: No module named 'crewai_tools'"
     ]
    }
   ],
   "source": [
    "from typing import List\n",
    "from crewai import Agent, Crew, Process, Task\n",
    "from crewai.project import CrewBase, agent, crew, task\n",
    "\n",
    "# Check our tools documentations for more information on how to use them\n",
    "from crewai_tools import SerperDevTool, ScrapeWebsiteTool, WebsiteSearchTool, FileReadTool\n",
    "from pydantic import BaseModel, Field\n",
    "\n",
    "web_search_tool = WebsiteSearchTool()\n",
    "seper_dev_tool = SerperDevTool()\n",
    "file_read_tool = FileReadTool(\n",
    "    file_path='job_description_example.md',\n",
    "    description='A tool to read the job description example file.'\n",
    ")\n",
    "\n",
    "class ResearchRoleRequirements(BaseModel):\n",
    "    \"\"\"Research role requirements model\"\"\"\n",
    "    skills: List[str] = Field(..., description=\"List of recommended skills for the ideal candidate aligned with the company's culture, ongoing projects, and the specific role's requirements.\")\n",
    "    experience: List[str] = Field(..., description=\"List of recommended experience for the ideal candidate aligned with the company's culture, ongoing projects, and the specific role's requirements.\")\n",
    "    qualities: List[str] = Field(..., description=\"List of recommended qualities for the ideal candidate aligned with the company's culture, ongoing projects, and the specific role's requirements.\")\n",
    "\n",
    "@CrewBase\n",
    "class JobPostingCrew:\n",
    "    \"\"\"JobPosting crew\"\"\"\n",
    "    agents_config = 'config/agents.yaml'\n",
    "    tasks_config = 'config/tasks.yaml'\n",
    "\n",
    "    @agent\n",
    "    def research_agent(self) -> Agent:\n",
    "        return Agent(\n",
    "            config=self.agents_config['research_agent'],\n",
    "            tools=[web_search_tool, seper_dev_tool],\n",
    "            verbose=True\n",
    "        )\n",
    "    \n",
    "    @agent\n",
    "    def writer_agent(self) -> Agent:\n",
    "        return Agent(\n",
    "            config=self.agents_config['writer_agent'],\n",
    "            tools=[web_search_tool, seper_dev_tool, file_read_tool],\n",
    "            verbose=True\n",
    "        )\n",
    "    \n",
    "    @agent\n",
    "    def review_agent(self) -> Agent:\n",
    "        return Agent(\n",
    "            config=self.agents_config['review_agent'],\n",
    "            tools=[web_search_tool, seper_dev_tool, file_read_tool],\n",
    "            verbose=True\n",
    "        )\n",
    "    \n",
    "    @task\n",
    "    def research_company_culture_task(self) -> Task:\n",
    "        return Task(\n",
    "            config=self.tasks_config['research_company_culture_task'],\n",
    "            agent=self.research_agent()\n",
    "        )\n",
    "\n",
    "    @task\n",
    "    def research_role_requirements_task(self) -> Task:\n",
    "        return Task(\n",
    "            config=self.tasks_config['research_role_requirements_task'],\n",
    "            agent=self.research_agent(),\n",
    "            output_json=ResearchRoleRequirements\n",
    "        )\n",
    "\n",
    "    @task\n",
    "    def draft_job_posting_task(self) -> Task:\n",
    "        return Task(\n",
    "            config=self.tasks_config['draft_job_posting_task'],\n",
    "            agent=self.writer_agent()\n",
    "        )\n",
    "\n",
    "    @task\n",
    "    def review_and_edit_job_posting_task(self) -> Task:\n",
    "        return Task(\n",
    "            config=self.tasks_config['review_and_edit_job_posting_task'],\n",
    "            agent=self.review_agent()\n",
    "        )\n",
    "\n",
    "    @task\n",
    "    def industry_analysis_task(self) -> Task:\n",
    "        return Task(\n",
    "            config=self.tasks_config['industry_analysis_task'],\n",
    "            agent=self.research_agent()\n",
    "        )\n",
    "\n",
    "    @crew\n",
    "    def crew(self) -> Crew:\n",
    "        \"\"\"Creates the JobPostingCrew\"\"\"\n",
    "        return Crew(\n",
    "            agents=self.agents,  # Automatically created by the @agent decorator\n",
    "            tasks=self.tasks,  # Automatically created by the @task decorator\n",
    "            process=Process.sequential,\n",
    "            verbose=2,\n",
    "        )"
   ]
  },
  {
   "cell_type": "code",
   "execution_count": null,
   "metadata": {},
   "outputs": [],
   "source": []
  }
 ],
 "metadata": {
  "kernelspec": {
   "display_name": "roadmap-gen",
   "language": "python",
   "name": "python3"
  },
  "language_info": {
   "codemirror_mode": {
    "name": "ipython",
    "version": 3
   },
   "file_extension": ".py",
   "mimetype": "text/x-python",
   "name": "python",
   "nbconvert_exporter": "python",
   "pygments_lexer": "ipython3",
   "version": "3.10.16"
  }
 },
 "nbformat": 4,
 "nbformat_minor": 2
}
