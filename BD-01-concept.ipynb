{
 "cells": [
  {
   "cell_type": "markdown",
   "metadata": {},
   "source": [
    "Idea from GPT Reseacher\n",
    "\n",
    "Query -> Planning -> Reseacher (with Multiquery) -> publiser -> Pdf, Doc, Markdown\n",
    "\n",
    "![GPT Researcher](images\\image.png)\n"
   ]
  }
 ],
 "metadata": {
  "kernelspec": {
   "display_name": "roadmap-gen",
   "language": "python",
   "name": "python3"
  },
  "language_info": {
   "name": "python",
   "version": "3.10.16"
  }
 },
 "nbformat": 4,
 "nbformat_minor": 2
}
