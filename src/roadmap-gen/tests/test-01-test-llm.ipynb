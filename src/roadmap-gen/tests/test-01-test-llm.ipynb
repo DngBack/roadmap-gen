{
 "cells": [
  {
   "cell_type": "code",
   "execution_count": 3,
   "metadata": {},
   "outputs": [],
   "source": [
    "from infra.llm_service import OpenAIInput\n",
    "from infra.llm_service import OpenAIService"
   ]
  },
  {
   "cell_type": "code",
   "execution_count": 2,
   "metadata": {},
   "outputs": [],
   "source": [
    "from shared.settings import load_settings\n",
    "\n",
    "settings = load_settings()"
   ]
  },
  {
   "cell_type": "code",
   "execution_count": 4,
   "metadata": {},
   "outputs": [],
   "source": [
    "openai_service = OpenAIService(settings=settings.openai)"
   ]
  },
  {
   "cell_type": "code",
   "execution_count": 5,
   "metadata": {},
   "outputs": [],
   "source": [
    "response = openai_service.process(\n",
    "    inputs= OpenAIInput(\n",
    "        user_prompt=\"Who is Donal Trump?\",\n",
    "        system_prompt=\"\"\n",
    "    )\n",
    ")"
   ]
  },
  {
   "cell_type": "code",
   "execution_count": 7,
   "metadata": {},
   "outputs": [
    {
     "name": "stdout",
     "output_type": "stream",
     "text": [
      "Donald Trump is an American businessman, television personality, and politician who served as the 45th president of the United States from January 20, 2017, to January 20, 2021. Before entering politics, he was known for his work in real estate as the president of The Trump Organization, which he took over from his father. Trump gained fame as a reality television star, particularly for his role on the NBC show \"The Apprentice.\"\n",
      "\n",
      "He is a member of the Republican Party and ran for president in 2016, winning against Democratic candidate Hillary Clinton. His presidency was marked by significant controversy, including his policies on immigration, trade, and foreign relations, as well as two impeachments by the House of Representatives—first in 2019 and again in 2021—though he was acquitted by the Senate both times.\n",
      "\n",
      "After losing the 2020 presidential election to Joe Biden, Trump continued to be a prominent figure in American politics and has hinted at the possibility of running for president again in future elections. His style and approach to politics have been polarizing, garnering both strong support and significant opposition.\n"
     ]
    }
   ],
   "source": [
    "print(response.response)"
   ]
  },
  {
   "cell_type": "code",
   "execution_count": null,
   "metadata": {},
   "outputs": [],
   "source": []
  }
 ],
 "metadata": {
  "kernelspec": {
   "display_name": "roadmap-gen",
   "language": "python",
   "name": "python3"
  },
  "language_info": {
   "codemirror_mode": {
    "name": "ipython",
    "version": 3
   },
   "file_extension": ".py",
   "mimetype": "text/x-python",
   "name": "python",
   "nbconvert_exporter": "python",
   "pygments_lexer": "ipython3",
   "version": "3.10.16"
  }
 },
 "nbformat": 4,
 "nbformat_minor": 2
}
